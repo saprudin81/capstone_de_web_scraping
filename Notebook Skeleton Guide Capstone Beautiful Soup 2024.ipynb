{
 "cells": [
  {
   "cell_type": "markdown",
   "metadata": {},
   "source": [
    "# Capstone Webscraping using BeautifulSoup\n",
    "\n",
    "This notebook contains guidances & tasks on the data processing for the application\n",
    "\n",
    "## Background\n",
    "\n",
    "(Please insert the background here )\n",
    "\n",
    "## Requesting the Data and Creating a BeautifulSoup\n",
    "\n",
    "Let's start by requesting the webpage using the `get` method from the `requests` library."
   ]
  },
  {
   "cell_type": "code",
   "execution_count": 1,
   "metadata": {
    "ExecuteTime": {
     "end_time": "2020-01-13T05:12:23.275508Z",
     "start_time": "2020-01-13T05:12:20.009898Z"
    }
   },
   "outputs": [],
   "source": [
    "import requests\n",
    "\n",
    "url_get = requests.get('https://www.exchange-rates.org/exchange-rate-history/usd-idr-2024')"
   ]
  },
  {
   "cell_type": "markdown",
   "metadata": {},
   "source": [
    "To visualize what exactly you get from the `request.get`, we can use `.content` so see what we exactly get (HTML content), in here i slice it so it won't make our screen full of the html we get from the page. You can delete the slicing if you want to see what we fully get."
   ]
  },
  {
   "cell_type": "code",
   "execution_count": 2,
   "metadata": {
    "ExecuteTime": {
     "end_time": "2020-01-13T05:12:23.290648Z",
     "start_time": "2020-01-13T05:12:23.277650Z"
    }
   },
   "outputs": [
    {
     "data": {
      "text/plain": [
       "b'!DOCTYPE html>\\r\\n<!--[if lt IE 9]>\\r\\n<html class=\"no-js ie8 oldie\" lang=\"en\" xml:lang=\\'en\\'>\\r\\n<![endif]-->\\r\\n<!--[if gt IE 8]><!--><html class=\"no-js\" lang=\"en\" xml:lang=\\'en\\'><!--<![endif]-->\\r\\n<head>\\r\\n<title>USD to IDR Exchange Rate History for 2024</title>\\r\\n<meta http-equiv=\"X-UA-Compatible\" content=\"IE=edge\">\\r\\n<meta name=\"viewport\" content=\"width=device-width, initial-scale=1, maximum-scale=5\">\\r\\n<meta charset=\"utf-8\" /><meta http-equiv=\"Content-Type\" content=\"text/html; charset=utf-8\" />\\r\\n<base h'"
      ]
     },
     "execution_count": 2,
     "metadata": {},
     "output_type": "execute_result"
    }
   ],
   "source": [
    "url_get.content[1:500]"
   ]
  },
  {
   "cell_type": "markdown",
   "metadata": {},
   "source": [
    "As we can see we get a very unstructured and complex html, which actually contains the codes needed to show the webpages on your web browser. But we as human still confused what and where we can use that piece of code, so here where we use the beautifulsoup. Beautiful soup class will result a beautifulsoup object. Beautiful Soup transforms a complex HTML document into a complex tree of Python objects. \n",
    "\n",
    "Let's create a BeautifulSoup object and feel free to explore the object here."
   ]
  },
  {
   "cell_type": "code",
   "execution_count": 3,
   "metadata": {
    "ExecuteTime": {
     "end_time": "2020-01-13T05:12:23.808122Z",
     "start_time": "2020-01-13T05:12:23.292610Z"
    }
   },
   "outputs": [],
   "source": [
    "from bs4 import BeautifulSoup \n",
    "\n",
    "soup = BeautifulSoup(url_get.content,\"html.parser\")"
   ]
  },
  {
   "cell_type": "markdown",
   "metadata": {},
   "source": [
    "## Finding the right key to scrap the data & Extracting the right information"
   ]
  },
  {
   "cell_type": "markdown",
   "metadata": {},
   "source": [
    "To extract the desired information, we need to find the right key using the .find() method. We can explore the HTML structure using .prettify().\n",
    "\n",
    "*Mencari Kunci untuk mengambil data*"
   ]
  },
  {
   "cell_type": "code",
   "execution_count": 4,
   "metadata": {
    "ExecuteTime": {
     "end_time": "2020-01-13T05:12:23.878904Z",
     "start_time": "2020-01-13T05:12:23.854974Z"
    }
   },
   "outputs": [
    {
     "name": "stdout",
     "output_type": "stream",
     "text": [
      "table border=\"0\" cellpadding=\"0\" cellspacing=\"0\" class=\"history-rates-data\">\n",
      " <tbody>\n",
      "  <tr class=\"month-row\">\n",
      "   <th class=\"month-header\" colspan=\"3\">\n",
      "    January 2024\n",
      "   </th>\n",
      "  </tr>\n",
      "  <tr>\n",
      "   <th class=\"ltr-bidi-fix\">\n",
      "    Date\n",
      "   </th>\n",
      "   <th class=\"ltr-bidi-fix\">\n",
      "    US Dollar to Indonesian Rupiah\n",
      "   </th>\n",
      "  </tr>\n",
      "  <tr>\n",
      "   <td>\n",
      "    <a class=\"w\" href=\"/exchange-rate-history/usd-idr-2024-01-01\">\n",
      "     January 1, 2024\n",
      "    </a>\n",
      "    <a class=\"n\" href=\"/exchange-rate-history/usd-idr-2024-01-01\">\n"
     ]
    }
   ],
   "source": [
    "table = soup.find('table', attrs={'class':'history-rates-data'})\n",
    "print(table.prettify()[1:500])"
   ]
  },
  {
   "cell_type": "markdown",
   "metadata": {},
   "source": [
    "Next, we need to find the row length."
   ]
  },
  {
   "cell_type": "code",
   "execution_count": 11,
   "metadata": {},
   "outputs": [
    {
     "data": {
      "text/plain": [
       "174"
      ]
     },
     "execution_count": 11,
     "metadata": {},
     "output_type": "execute_result"
    }
   ],
   "source": [
    "Date = table.find_all('a', attrs={'class':'w'})\n",
    "row_length = len(Date)\n",
    "row_length"
   ]
  },
  {
   "cell_type": "markdown",
   "metadata": {},
   "source": [
    "Do the scrapping process here (please change this markdown with your explanation). \n",
    "\n",
    "> You can use a for loop to perform the scraping process in various ways depending on the HTML structure of the website you want to scrap and the information you want to retrieve."
   ]
  },
  {
   "cell_type": "code",
   "execution_count": 28,
   "metadata": {
    "ExecuteTime": {
     "end_time": "2020-01-13T05:12:24.008256Z",
     "start_time": "2020-01-13T05:12:23.980358Z"
    }
   },
   "outputs": [
    {
     "data": {
      "text/plain": [
       "[('January 1, 2024', '1 USD = 15,390 IDR'),\n",
       " ('January 2, 2024', '1 USD = 15,499 IDR'),\n",
       " ('January 3, 2024', '1 USD = 15,562 IDR'),\n",
       " ('January 4, 2024', '1 USD = 15,518 IDR'),\n",
       " ('January 5, 2024', '1 USD = 15,503 IDR'),\n",
       " ('January 8, 2024', '1 USD = 15,507 IDR'),\n",
       " ('January 9, 2024', '1 USD = 15,536 IDR'),\n",
       " ('January 10, 2024', '1 USD = 15,563 IDR'),\n",
       " ('January 11, 2024', '1 USD = 15,563 IDR'),\n",
       " ('January 12, 2024', '1 USD = 15,538 IDR'),\n",
       " ('January 15, 2024', '1 USD = 15,553 IDR'),\n",
       " ('January 16, 2024', '1 USD = 15,632 IDR'),\n",
       " ('January 17, 2024', '1 USD = 15,638 IDR'),\n",
       " ('January 18, 2024', '1 USD = 15,621 IDR'),\n",
       " ('January 19, 2024', '1 USD = 15,620 IDR'),\n",
       " ('January 22, 2024', '1 USD = 15,661 IDR'),\n",
       " ('January 23, 2024', '1 USD = 15,726 IDR'),\n",
       " ('January 24, 2024', '1 USD = 15,720 IDR'),\n",
       " ('January 25, 2024', '1 USD = 15,820 IDR'),\n",
       " ('January 26, 2024', '1 USD = 15,775 IDR'),\n",
       " ('January 29, 2024', '1 USD = 15,835 IDR'),\n",
       " ('January 30, 2024', '1 USD = 15,791 IDR'),\n",
       " ('January 31, 2024', '1 USD = 15,768 IDR'),\n",
       " ('February 1, 2024', '1 USD = 15,733 IDR'),\n",
       " ('February 2, 2024', '1 USD = 15,731 IDR'),\n",
       " ('February 5, 2024', '1 USD = 15,775 IDR'),\n",
       " ('February 6, 2024', '1 USD = 15,738 IDR'),\n",
       " ('February 7, 2024', '1 USD = 15,653 IDR'),\n",
       " ('February 8, 2024', '1 USD = 15,665 IDR'),\n",
       " ('February 9, 2024', '1 USD = 15,611 IDR'),\n",
       " ('February 12, 2024', '1 USD = 15,581 IDR'),\n",
       " ('February 13, 2024', '1 USD = 15,671 IDR'),\n",
       " ('February 14, 2024', '1 USD = 15,646 IDR'),\n",
       " ('February 15, 2024', '1 USD = 15,679 IDR'),\n",
       " ('February 16, 2024', '1 USD = 15,656 IDR'),\n",
       " ('February 19, 2024', '1 USD = 15,643 IDR'),\n",
       " ('February 20, 2024', '1 USD = 15,657 IDR'),\n",
       " ('February 21, 2024', '1 USD = 15,658 IDR'),\n",
       " ('February 22, 2024', '1 USD = 15,594 IDR'),\n",
       " ('February 23, 2024', '1 USD = 15,594 IDR'),\n",
       " ('February 26, 2024', '1 USD = 15,634 IDR'),\n",
       " ('February 27, 2024', '1 USD = 15,673 IDR'),\n",
       " ('February 28, 2024', '1 USD = 15,731 IDR'),\n",
       " ('February 29, 2024', '1 USD = 15,712 IDR'),\n",
       " ('March 1, 2024', '1 USD = 15,702 IDR'),\n",
       " ('March 4, 2024', '1 USD = 15,760 IDR'),\n",
       " ('March 5, 2024', '1 USD = 15,743 IDR'),\n",
       " ('March 6, 2024', '1 USD = 15,660 IDR'),\n",
       " ('March 7, 2024', '1 USD = 15,627 IDR'),\n",
       " ('March 8, 2024', '1 USD = 15,541 IDR'),\n",
       " ('March 11, 2024', '1 USD = 15,525 IDR'),\n",
       " ('March 12, 2024', '1 USD = 15,560 IDR'),\n",
       " ('March 13, 2024', '1 USD = 15,580 IDR'),\n",
       " ('March 14, 2024', '1 USD = 15,638 IDR'),\n",
       " ('March 15, 2024', '1 USD = 15,647 IDR'),\n",
       " ('March 18, 2024', '1 USD = 15,742 IDR'),\n",
       " ('March 19, 2024', '1 USD = 15,723 IDR'),\n",
       " ('March 20, 2024', '1 USD = 15,697 IDR'),\n",
       " ('March 21, 2024', '1 USD = 15,727 IDR'),\n",
       " ('March 22, 2024', '1 USD = 15,814 IDR'),\n",
       " ('March 25, 2024', '1 USD = 15,784 IDR'),\n",
       " ('March 26, 2024', '1 USD = 15,821 IDR'),\n",
       " ('March 27, 2024', '1 USD = 15,901 IDR'),\n",
       " ('March 28, 2024', '1 USD = 15,891 IDR'),\n",
       " ('March 29, 2024', '1 USD = 15,880 IDR'),\n",
       " ('April 1, 2024', '1 USD = 15,951 IDR'),\n",
       " ('April 2, 2024', '1 USD = 15,952 IDR'),\n",
       " ('April 3, 2024', '1 USD = 15,942 IDR'),\n",
       " ('April 4, 2024', '1 USD = 15,896 IDR'),\n",
       " ('April 5, 2024', '1 USD = 15,888 IDR'),\n",
       " ('April 8, 2024', '1 USD = 15,912 IDR'),\n",
       " ('April 9, 2024', '1 USD = 15,892 IDR'),\n",
       " ('April 10, 2024', '1 USD = 16,001 IDR'),\n",
       " ('April 11, 2024', '1 USD = 16,011 IDR'),\n",
       " ('April 12, 2024', '1 USD = 16,118 IDR'),\n",
       " ('April 15, 2024', '1 USD = 16,083 IDR'),\n",
       " ('April 16, 2024', '1 USD = 16,303 IDR'),\n",
       " ('April 17, 2024', '1 USD = 16,243 IDR'),\n",
       " ('April 18, 2024', '1 USD = 16,210 IDR'),\n",
       " ('April 19, 2024', '1 USD = 16,218 IDR'),\n",
       " ('April 22, 2024', '1 USD = 16,238 IDR'),\n",
       " ('April 23, 2024', '1 USD = 16,143 IDR'),\n",
       " ('April 24, 2024', '1 USD = 16,212 IDR'),\n",
       " ('April 25, 2024', '1 USD = 16,193 IDR'),\n",
       " ('April 26, 2024', '1 USD = 16,241 IDR'),\n",
       " ('April 29, 2024', '1 USD = 16,241 IDR'),\n",
       " ('April 30, 2024', '1 USD = 16,263 IDR'),\n",
       " ('May 1, 2024', '1 USD = 16,194 IDR'),\n",
       " ('May 2, 2024', '1 USD = 16,095 IDR'),\n",
       " ('May 3, 2024', '1 USD = 15,969 IDR'),\n",
       " ('May 6, 2024', '1 USD = 16,042 IDR'),\n",
       " ('May 7, 2024', '1 USD = 16,072 IDR'),\n",
       " ('May 8, 2024', '1 USD = 16,075 IDR'),\n",
       " ('May 9, 2024', '1 USD = 16,027 IDR'),\n",
       " ('May 10, 2024', '1 USD = 16,055 IDR'),\n",
       " ('May 13, 2024', '1 USD = 16,118 IDR'),\n",
       " ('May 14, 2024', '1 USD = 16,103 IDR'),\n",
       " ('May 15, 2024', '1 USD = 15,918 IDR'),\n",
       " ('May 16, 2024', '1 USD = 15,931 IDR'),\n",
       " ('May 17, 2024', '1 USD = 15,965 IDR'),\n",
       " ('May 20, 2024', '1 USD = 16,040 IDR'),\n",
       " ('May 21, 2024', '1 USD = 16,004 IDR'),\n",
       " ('May 22, 2024', '1 USD = 16,041 IDR'),\n",
       " ('May 23, 2024', '1 USD = 16,091 IDR'),\n",
       " ('May 24, 2024', '1 USD = 16,045 IDR'),\n",
       " ('May 27, 2024', '1 USD = 16,073 IDR'),\n",
       " ('May 28, 2024', '1 USD = 16,115 IDR'),\n",
       " ('May 29, 2024', '1 USD = 16,252 IDR'),\n",
       " ('May 30, 2024', '1 USD = 16,233 IDR'),\n",
       " ('May 31, 2024', '1 USD = 16,255 IDR'),\n",
       " ('June 3, 2024', '1 USD = 16,210 IDR'),\n",
       " ('June 4, 2024', '1 USD = 16,282 IDR'),\n",
       " ('June 5, 2024', '1 USD = 16,312 IDR'),\n",
       " ('June 6, 2024', '1 USD = 16,239 IDR'),\n",
       " ('June 7, 2024', '1 USD = 16,277 IDR'),\n",
       " ('June 10, 2024', '1 USD = 16,309 IDR'),\n",
       " ('June 11, 2024', '1 USD = 16,306 IDR'),\n",
       " ('June 12, 2024', '1 USD = 16,246 IDR'),\n",
       " ('June 13, 2024', '1 USD = 16,283 IDR'),\n",
       " ('June 14, 2024', '1 USD = 16,487 IDR'),\n",
       " ('June 17, 2024', '1 USD = 16,467 IDR'),\n",
       " ('June 18, 2024', '1 USD = 16,376 IDR'),\n",
       " ('June 19, 2024', '1 USD = 16,391 IDR'),\n",
       " ('June 20, 2024', '1 USD = 16,490 IDR'),\n",
       " ('June 21, 2024', '1 USD = 16,478 IDR'),\n",
       " ('June 24, 2024', '1 USD = 16,401 IDR'),\n",
       " ('June 25, 2024', '1 USD = 16,399 IDR'),\n",
       " ('June 26, 2024', '1 USD = 16,431 IDR'),\n",
       " ('June 27, 2024', '1 USD = 16,387 IDR'),\n",
       " ('June 28, 2024', '1 USD = 16,350 IDR'),\n",
       " ('July 1, 2024', '1 USD = 16,374 IDR'),\n",
       " ('July 2, 2024', '1 USD = 16,387 IDR'),\n",
       " ('July 3, 2024', '1 USD = 16,346 IDR'),\n",
       " ('July 4, 2024', '1 USD = 16,336 IDR'),\n",
       " ('July 5, 2024', '1 USD = 16,252 IDR'),\n",
       " ('July 8, 2024', '1 USD = 16,285 IDR'),\n",
       " ('July 9, 2024', '1 USD = 16,284 IDR'),\n",
       " ('July 10, 2024', '1 USD = 16,204 IDR'),\n",
       " ('July 11, 2024', '1 USD = 16,104 IDR'),\n",
       " ('July 12, 2024', '1 USD = 16,115 IDR'),\n",
       " ('July 15, 2024', '1 USD = 16,192 IDR'),\n",
       " ('July 16, 2024', '1 USD = 16,166 IDR'),\n",
       " ('July 17, 2024', '1 USD = 16,151 IDR'),\n",
       " ('July 18, 2024', '1 USD = 16,181 IDR'),\n",
       " ('July 19, 2024', '1 USD = 16,213 IDR'),\n",
       " ('July 22, 2024', '1 USD = 16,218 IDR'),\n",
       " ('July 23, 2024', '1 USD = 16,219 IDR'),\n",
       " ('July 24, 2024', '1 USD = 16,245 IDR'),\n",
       " ('July 25, 2024', '1 USD = 16,332 IDR'),\n",
       " ('July 26, 2024', '1 USD = 16,304 IDR'),\n",
       " ('July 29, 2024', '1 USD = 16,297 IDR'),\n",
       " ('July 30, 2024', '1 USD = 16,326 IDR'),\n",
       " ('July 31, 2024', '1 USD = 16,251 IDR'),\n",
       " ('August 1, 2024', '1 USD = 16,275 IDR'),\n",
       " ('August 2, 2024', '1 USD = 16,176 IDR'),\n",
       " ('August 5, 2024', '1 USD = 16,222 IDR'),\n",
       " ('August 6, 2024', '1 USD = 16,175 IDR'),\n",
       " ('August 7, 2024', '1 USD = 16,030 IDR'),\n",
       " ('August 8, 2024', '1 USD = 15,985 IDR'),\n",
       " ('August 9, 2024', '1 USD = 15,950 IDR'),\n",
       " ('August 12, 2024', '1 USD = 15,948 IDR'),\n",
       " ('August 13, 2024', '1 USD = 15,756 IDR'),\n",
       " ('August 14, 2024', '1 USD = 15,634 IDR'),\n",
       " ('August 15, 2024', '1 USD = 15,773 IDR'),\n",
       " ('August 16, 2024', '1 USD = 15,698 IDR'),\n",
       " ('August 19, 2024', '1 USD = 15,530 IDR'),\n",
       " ('August 20, 2024', '1 USD = 15,449 IDR'),\n",
       " ('August 21, 2024', '1 USD = 15,508 IDR'),\n",
       " ('August 22, 2024', '1 USD = 15,751 IDR'),\n",
       " ('August 23, 2024', '1 USD = 15,401 IDR'),\n",
       " ('August 26, 2024', '1 USD = 15,483 IDR'),\n",
       " ('August 27, 2024', '1 USD = 15,481 IDR'),\n",
       " ('August 28, 2024', '1 USD = 15,446 IDR'),\n",
       " ('August 29, 2024', '1 USD = 15,466 IDR')]"
      ]
     },
     "execution_count": 28,
     "metadata": {},
     "output_type": "execute_result"
    }
   ],
   "source": [
    "temp = []  # Initiating a tuple\n",
    "\n",
    "for i in range(0, row_length):\n",
    "\n",
    "    # Scraping process\n",
    "    #Date\n",
    "    tanggal = table.find_all('a', attrs={'class':'w'})[i].text\n",
    "    tanggal = tanggal.strip()\n",
    "    #Kurs Harian\n",
    "    harga_harian = table.find_all('span', attrs={'class':'w'})[i].text\n",
    "    # menggabung kolom tanggal dan kurs harian\n",
    "    temp.append((tanggal,harga_harian))\n",
    "    \n",
    "temp\n"
   ]
  },
  {
   "cell_type": "markdown",
   "metadata": {},
   "source": [
    "## Creating data frame & Data wrangling"
   ]
  },
  {
   "cell_type": "markdown",
   "metadata": {},
   "source": [
    "Once we have extracted the data, we can put it into a dataframe."
   ]
  },
  {
   "cell_type": "code",
   "execution_count": 36,
   "metadata": {
    "ExecuteTime": {
     "end_time": "2020-01-13T05:12:41.517372Z",
     "start_time": "2020-01-13T05:12:29.130015Z"
    }
   },
   "outputs": [
    {
     "data": {
      "text/html": [
       "<div>\n",
       "<style scoped>\n",
       "    .dataframe tbody tr th:only-of-type {\n",
       "        vertical-align: middle;\n",
       "    }\n",
       "\n",
       "    .dataframe tbody tr th {\n",
       "        vertical-align: top;\n",
       "    }\n",
       "\n",
       "    .dataframe thead th {\n",
       "        text-align: right;\n",
       "    }\n",
       "</style>\n",
       "<table border=\"1\" class=\"dataframe\">\n",
       "  <thead>\n",
       "    <tr style=\"text-align: right;\">\n",
       "      <th></th>\n",
       "      <th>tanggal</th>\n",
       "      <th>harga_harian</th>\n",
       "    </tr>\n",
       "  </thead>\n",
       "  <tbody>\n",
       "    <tr>\n",
       "      <th>0</th>\n",
       "      <td>January 1, 2024</td>\n",
       "      <td>1 USD = 15,390 IDR</td>\n",
       "    </tr>\n",
       "    <tr>\n",
       "      <th>1</th>\n",
       "      <td>January 2, 2024</td>\n",
       "      <td>1 USD = 15,499 IDR</td>\n",
       "    </tr>\n",
       "    <tr>\n",
       "      <th>2</th>\n",
       "      <td>January 3, 2024</td>\n",
       "      <td>1 USD = 15,562 IDR</td>\n",
       "    </tr>\n",
       "    <tr>\n",
       "      <th>3</th>\n",
       "      <td>January 4, 2024</td>\n",
       "      <td>1 USD = 15,518 IDR</td>\n",
       "    </tr>\n",
       "    <tr>\n",
       "      <th>4</th>\n",
       "      <td>January 5, 2024</td>\n",
       "      <td>1 USD = 15,503 IDR</td>\n",
       "    </tr>\n",
       "  </tbody>\n",
       "</table>\n",
       "</div>"
      ],
      "text/plain": [
       "           tanggal        harga_harian\n",
       "0  January 1, 2024  1 USD = 15,390 IDR\n",
       "1  January 2, 2024  1 USD = 15,499 IDR\n",
       "2  January 3, 2024  1 USD = 15,562 IDR\n",
       "3  January 4, 2024  1 USD = 15,518 IDR\n",
       "4  January 5, 2024  1 USD = 15,503 IDR"
      ]
     },
     "execution_count": 36,
     "metadata": {},
     "output_type": "execute_result"
    }
   ],
   "source": [
    "import pandas as pd\n",
    "df = pd.DataFrame(temp,columns= ('tanggal','harga_harian'))\n",
    "df.head()"
   ]
  },
  {
   "cell_type": "markdown",
   "metadata": {},
   "source": [
    "### Data Cleansing\n",
    "\n",
    "1. Menghilangkan str ','\n",
    "2. Menghilangkan str '1 USD = '\n",
    "3. Menghilangkan str 'IDR'\n",
    "4. Merubah tipe Data\n",
    "5. Menambha kolom nama bulan"
   ]
  },
  {
   "cell_type": "code",
   "execution_count": 37,
   "metadata": {
    "ExecuteTime": {
     "end_time": "2020-01-13T05:12:59.165559Z",
     "start_time": "2020-01-13T05:12:58.910012Z"
    }
   },
   "outputs": [
    {
     "data": {
      "text/html": [
       "<div>\n",
       "<style scoped>\n",
       "    .dataframe tbody tr th:only-of-type {\n",
       "        vertical-align: middle;\n",
       "    }\n",
       "\n",
       "    .dataframe tbody tr th {\n",
       "        vertical-align: top;\n",
       "    }\n",
       "\n",
       "    .dataframe thead th {\n",
       "        text-align: right;\n",
       "    }\n",
       "</style>\n",
       "<table border=\"1\" class=\"dataframe\">\n",
       "  <thead>\n",
       "    <tr style=\"text-align: right;\">\n",
       "      <th></th>\n",
       "      <th>harga_harian</th>\n",
       "      <th>month_name</th>\n",
       "    </tr>\n",
       "    <tr>\n",
       "      <th>tanggal</th>\n",
       "      <th></th>\n",
       "      <th></th>\n",
       "    </tr>\n",
       "  </thead>\n",
       "  <tbody>\n",
       "    <tr>\n",
       "      <th>2024-01-01</th>\n",
       "      <td>15390</td>\n",
       "      <td>January</td>\n",
       "    </tr>\n",
       "    <tr>\n",
       "      <th>2024-01-02</th>\n",
       "      <td>15499</td>\n",
       "      <td>January</td>\n",
       "    </tr>\n",
       "    <tr>\n",
       "      <th>2024-01-03</th>\n",
       "      <td>15562</td>\n",
       "      <td>January</td>\n",
       "    </tr>\n",
       "    <tr>\n",
       "      <th>2024-01-04</th>\n",
       "      <td>15518</td>\n",
       "      <td>January</td>\n",
       "    </tr>\n",
       "    <tr>\n",
       "      <th>2024-01-05</th>\n",
       "      <td>15503</td>\n",
       "      <td>January</td>\n",
       "    </tr>\n",
       "  </tbody>\n",
       "</table>\n",
       "</div>"
      ],
      "text/plain": [
       "            harga_harian month_name\n",
       "tanggal                            \n",
       "2024-01-01         15390    January\n",
       "2024-01-02         15499    January\n",
       "2024-01-03         15562    January\n",
       "2024-01-04         15518    January\n",
       "2024-01-05         15503    January"
      ]
     },
     "execution_count": 37,
     "metadata": {},
     "output_type": "execute_result"
    }
   ],
   "source": [
    "#delete , dan idr\n",
    "df['harga_harian'] = df['harga_harian'].str.replace(',', '')\n",
    "df['harga_harian'] = df['harga_harian'].str.replace('1 USD = ', '')\n",
    "df['harga_harian'] = df['harga_harian'].str.replace(' IDR', '')\n",
    "df['harga_harian'] = df['harga_harian'].astype('int64') \n",
    "df['tanggal'] = pd.to_datetime(df['tanggal'])\n",
    "df.set_index('tanggal', inplace=True)\n",
    "df['month_name'] = df.index.month_name()\n",
    "df.head()\n"
   ]
  },
  {
   "cell_type": "code",
   "execution_count": 48,
   "metadata": {},
   "outputs": [
    {
     "data": {
      "text/html": [
       "<div>\n",
       "<style scoped>\n",
       "    .dataframe tbody tr th:only-of-type {\n",
       "        vertical-align: middle;\n",
       "    }\n",
       "\n",
       "    .dataframe tbody tr th {\n",
       "        vertical-align: top;\n",
       "    }\n",
       "\n",
       "    .dataframe thead tr th {\n",
       "        text-align: left;\n",
       "    }\n",
       "\n",
       "    .dataframe thead tr:last-of-type th {\n",
       "        text-align: right;\n",
       "    }\n",
       "</style>\n",
       "<table border=\"1\" class=\"dataframe\">\n",
       "  <thead>\n",
       "    <tr>\n",
       "      <th></th>\n",
       "      <th colspan=\"3\" halign=\"left\">harga_harian</th>\n",
       "    </tr>\n",
       "    <tr>\n",
       "      <th></th>\n",
       "      <th>max</th>\n",
       "      <th>min</th>\n",
       "      <th>mean</th>\n",
       "    </tr>\n",
       "    <tr>\n",
       "      <th>month_name</th>\n",
       "      <th></th>\n",
       "      <th></th>\n",
       "      <th></th>\n",
       "    </tr>\n",
       "  </thead>\n",
       "  <tbody>\n",
       "    <tr>\n",
       "      <th>January</th>\n",
       "      <td>15835</td>\n",
       "      <td>15390</td>\n",
       "      <td>15623.434783</td>\n",
       "    </tr>\n",
       "    <tr>\n",
       "      <th>February</th>\n",
       "      <td>15775</td>\n",
       "      <td>15581</td>\n",
       "      <td>15668.333333</td>\n",
       "    </tr>\n",
       "    <tr>\n",
       "      <th>March</th>\n",
       "      <td>15901</td>\n",
       "      <td>15525</td>\n",
       "      <td>15712.523810</td>\n",
       "    </tr>\n",
       "    <tr>\n",
       "      <th>April</th>\n",
       "      <td>16303</td>\n",
       "      <td>15888</td>\n",
       "      <td>16097.772727</td>\n",
       "    </tr>\n",
       "    <tr>\n",
       "      <th>May</th>\n",
       "      <td>16255</td>\n",
       "      <td>15918</td>\n",
       "      <td>16074.478261</td>\n",
       "    </tr>\n",
       "    <tr>\n",
       "      <th>June</th>\n",
       "      <td>16490</td>\n",
       "      <td>16210</td>\n",
       "      <td>16356.050000</td>\n",
       "    </tr>\n",
       "    <tr>\n",
       "      <th>July</th>\n",
       "      <td>16387</td>\n",
       "      <td>16104</td>\n",
       "      <td>16251.391304</td>\n",
       "    </tr>\n",
       "    <tr>\n",
       "      <th>August</th>\n",
       "      <td>16275</td>\n",
       "      <td>15401</td>\n",
       "      <td>15768.428571</td>\n",
       "    </tr>\n",
       "  </tbody>\n",
       "</table>\n",
       "</div>"
      ],
      "text/plain": [
       "           harga_harian                     \n",
       "                    max    min          mean\n",
       "month_name                                  \n",
       "January           15835  15390  15623.434783\n",
       "February          15775  15581  15668.333333\n",
       "March             15901  15525  15712.523810\n",
       "April             16303  15888  16097.772727\n",
       "May               16255  15918  16074.478261\n",
       "June              16490  16210  16356.050000\n",
       "July              16387  16104  16251.391304\n",
       "August            16275  15401  15768.428571"
      ]
     },
     "execution_count": 48,
     "metadata": {},
     "output_type": "execute_result"
    }
   ],
   "source": [
    "months = ['January', 'February', 'March', 'April', 'May', 'June', 'July', 'August']\n",
    "summary_df = df.groupby('month_name').agg({\n",
    "    'harga_harian': ['max', 'min', 'mean']\n",
    "})\n",
    "summary_df = summary_df.reindex(months)\n",
    "summary_df"
   ]
  },
  {
   "cell_type": "markdown",
   "metadata": {},
   "source": [
    "### Data Visualization\n",
    "\n",
    "Melihat pergerakan rupiah terhadap USD selama tahun 2024"
   ]
  },
  {
   "cell_type": "code",
   "execution_count": 32,
   "metadata": {},
   "outputs": [
    {
     "data": {
      "text/plain": [
       "<Axes: xlabel='tanggal'>"
      ]
     },
     "execution_count": 32,
     "metadata": {},
     "output_type": "execute_result"
    },
    {
     "data": {
      "image/png": "[encoded data removed]",
      "text/plain": [
       "<Figure size 640x480 with 1 Axes>"
      ]
     },
     "metadata": {},
     "output_type": "display_data"
    }
   ],
   "source": [
    "df.plot()"
   ]
  },
  {
   "cell_type": "markdown",
   "metadata": {},
   "source": [
    "### Implementing your webscrapping to the flask dashboard\n",
    "\n",
    "- Copy paste all of your web scrapping process to the desired position on the `app.py`\n",
    "- Change the title of the dashboard in `index.html`"
   ]
  },
  {
   "cell_type": "markdown",
   "metadata": {},
   "source": [
    "## Finishing This Notebook with Your Analysis and Conclusion\n",
    "\n",
    "First you can do start with making the data visualization."
   ]
  },
  {
   "cell_type": "code",
   "execution_count": 38,
   "metadata": {
    "ExecuteTime": {
     "end_time": "2020-01-13T05:20:56.208237Z",
     "start_time": "2020-01-13T05:20:56.076043Z"
    }
   },
   "outputs": [
    {
     "data": {
      "text/plain": [
       "<Axes: xlabel='tanggal'>"
      ]
     },
     "execution_count": 38,
     "metadata": {},
     "output_type": "execute_result"
    },
    {
     "data": {
      "image/png": "[encoded data removed]",
      "text/plain": [
       "<Figure size 640x480 with 1 Axes>"
      ]
     },
     "metadata": {},
     "output_type": "display_data"
    }
   ],
   "source": [
    "df.plot()"
   ]
  },
  {
   "cell_type": "code",
   "execution_count": 54,
   "metadata": {},
   "outputs": [
    {
     "data": {
      "text/plain": [
       "<Axes: xlabel='month_name'>"
      ]
     },
     "execution_count": 54,
     "metadata": {},
     "output_type": "execute_result"
    },
    {
     "data": {
      "image/png": "[encoded data removed]",
      "text/plain": [
       "<Figure size 640x480 with 1 Axes>"
      ]
     },
     "metadata": {},
     "output_type": "display_data"
    }
   ],
   "source": [
    "summary_df.plot.bar()"
   ]
  },
  {
   "cell_type": "code",
   "execution_count": 50,
   "metadata": {},
   "outputs": [
    {
     "name": "stdout",
     "output_type": "stream",
     "text": [
      "Minimum harga_harian tahun 2024: 15390\n",
      "Maximum harga_harian tahun 2024: (Timestamp('2024-06-20 00:00:00'), 16490)\n",
      "Mean harga_harian tahun 2024: 15943.91\n"
     ]
    }
   ],
   "source": [
    "# Calculate min, max, and mean for 'harga_harian'\n",
    "min_harga = df['harga_harian'].min()\n",
    "max_harga = df['harga_harian'].max()\n",
    "max_pos = df['harga_harian'].idxmax()\n",
    "mean_harga = df['harga_harian'].mean()\n",
    "\n",
    "print(f\"Minimum harga_harian tahun 2024: {min_harga}\")\n",
    "print(f\"Maximum harga_harian tahun 2024: {max_pos,max_harga}\")\n",
    "print(f\"Mean harga_harian tahun 2024: {mean_harga:.2f}\")"
   ]
  },
  {
   "cell_type": "markdown",
   "metadata": {},
   "source": [
    "## Analysis\n",
    "\n",
    "1. Rupiah mengalami pelemahan paling dalam terjadi dibulan Juni 20224\n",
    "2. harga 1 dolar berkisar antara 15390 s/d 16490"
   ]
  },
  {
   "cell_type": "markdown",
   "metadata": {},
   "source": [
    "### Extra Challange\n",
    "\n",
    "This will be not included to the scoring. \n",
    "\n",
    "- You can create additional visualization/analysis from the data.\n",
    "- Implement it to the dashboard with at `app.py` dan `index.html`."
   ]
  }
 ],
 "metadata": {
  "kernelspec": {
   "display_name": "zeus_cs",
   "language": "python",
   "name": "python3"
  },
  "language_info": {
   "codemirror_mode": {
    "name": "ipython",
    "version": 3
   },
   "file_extension": ".py",
   "mimetype": "text/x-python",
   "name": "python",
   "nbconvert_exporter": "python",
   "pygments_lexer": "ipython3",
   "version": "3.10.14"
  }
 },
 "nbformat": 4,
 "nbformat_minor": 2
}
